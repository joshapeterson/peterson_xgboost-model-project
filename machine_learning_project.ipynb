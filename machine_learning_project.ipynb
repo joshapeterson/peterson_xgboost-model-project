{
  "cells": [
    {
      "cell_type": "markdown",
      "source": [
        "# **Machine Learning Model to Predict COVID-19 Misinformation on Twitter**\n",
        "\n"
      ],
      "metadata": {
        "id": "m0j5-ObR9DGE"
      }
    },
    {
      "cell_type": "code",
      "execution_count": null,
      "metadata": {
        "id": "bOQ-ySnJA_uh",
        "colab": {
          "base_uri": "https://localhost:8080/"
        },
        "outputId": "32f04ff3-0f17-40e7-b4eb-71e54dbd9b18"
      },
      "outputs": [
        {
          "output_type": "stream",
          "name": "stderr",
          "text": [
            "[nltk_data] Downloading package punkt to /root/nltk_data...\n",
            "[nltk_data]   Unzipping tokenizers/punkt.zip.\n",
            "[nltk_data] Downloading package wordnet to /root/nltk_data...\n",
            "[nltk_data] Downloading package averaged_perceptron_tagger to\n",
            "[nltk_data]     /root/nltk_data...\n",
            "[nltk_data]   Unzipping taggers/averaged_perceptron_tagger.zip.\n",
            "[nltk_data] Downloading package stopwords to /root/nltk_data...\n",
            "[nltk_data]   Unzipping corpora/stopwords.zip.\n"
          ]
        }
      ],
      "source": [
        "# utils\n",
        "import os\n",
        "import pickle\n",
        "import pandas as pd\n",
        "import numpy as np\n",
        "import seaborn as sns\n",
        "import matplotlib.pyplot as plt\n",
        "from collections import defaultdict\n",
        "\n",
        "# natural language packages\n",
        "# (https://www.nltk.org/)\n",
        "import nltk\n",
        "from nltk.tokenize import word_tokenize\n",
        "from nltk import pos_tag\n",
        "from nltk.corpus import stopwords\n",
        "from nltk.stem import WordNetLemmatizer\n",
        "from nltk.stem.snowball import SnowballStemmer\n",
        "from nltk.corpus import wordnet as wn\n",
        "\n",
        "nltk.download('punkt')\n",
        "nltk.download('wordnet')\n",
        "nltk.download('averaged_perceptron_tagger')\n",
        "nltk.download('stopwords')\n",
        "\n",
        "# machine learning packages\n",
        "# (https://scikit-learn.org/stable/)\n",
        "import sklearn\n",
        "from sklearn.preprocessing import LabelEncoder\n",
        "from sklearn.feature_extraction.text import TfidfVectorizer\n",
        "from sklearn import model_selection\n",
        "from sklearn.model_selection import KFold, cross_val_score, train_test_split, GridSearchCV\n",
        "from sklearn.metrics import accuracy_score, classification_report, confusion_matrix\n",
        "\n",
        "# xgboost (https://xgboost.readthedocs.io/en/stable/python/index.html)\n",
        "import xgboost as xgb\n",
        "from xgboost import XGBClassifier\n",
        "\n",
        "# ignore futurewarnings\n",
        "import warnings\n",
        "warnings.simplefilter(action='ignore', category=FutureWarning)"
      ]
    },
    {
      "cell_type": "markdown",
      "source": [
        "Mount Google Drive and set working directory."
      ],
      "metadata": {
        "id": "lU_-K11G-q-j"
      }
    },
    {
      "cell_type": "code",
      "source": [
        "# mount google drive to colab\n",
        "from google.colab import drive\n",
        "drive.mount('/content/drive')\n",
        "\n",
        "# set working directory to appropriate folder in google drive\n",
        "%cd drive/MyDrive/Machine Learning Project"
      ],
      "metadata": {
        "id": "5zEvD4G9BItR",
        "colab": {
          "base_uri": "https://localhost:8080/"
        },
        "outputId": "bc024e76-619e-408a-a7ac-b5f302960e3a"
      },
      "execution_count": null,
      "outputs": [
        {
          "output_type": "stream",
          "name": "stdout",
          "text": [
            "Mounted at /content/drive\n",
            "/content/drive/MyDrive/Machine Learning Project\n"
          ]
        }
      ]
    },
    {
      "cell_type": "markdown",
      "source": [
        "## **Load Dataset**"
      ],
      "metadata": {
        "id": "4_-itniqeuof"
      }
    },
    {
      "cell_type": "code",
      "execution_count": null,
      "metadata": {
        "id": "YDmVh57NA_uk",
        "colab": {
          "base_uri": "https://localhost:8080/",
          "height": 206
        },
        "outputId": "7d6a485a-30de-4ecf-e4a6-6c06dd839733"
      },
      "outputs": [
        {
          "output_type": "execute_result",
          "data": {
            "text/plain": [
              "             id                       date  \\\n",
              "0  1.265080e+18  2020-05-26 00:56:04+00:00   \n",
              "1  1.252420e+18  2020-04-21 02:16:11+00:00   \n",
              "2  1.253760e+18  2020-04-24 19:04:33+00:00   \n",
              "3  1.237780e+18  2020-03-11 16:26:53+00:00   \n",
              "4  1.270080e+18  2020-06-08 19:53:19+00:00   \n",
              "\n",
              "                                               tweet      username lang  \\\n",
              "0  Ian Haydon, who is participating in a vaccine ...         AC360   en   \n",
              "1  Gachibowli Sports Tower turns Covid hospital\\n...      BRSparty   en   \n",
              "2  Protesters at state Capitol are chanting \"Wher...      sbauerAP   en   \n",
              "3  🚨 BREAKING 🚨\\n\\n\"We have therefore made the as...           WHO   en   \n",
              "4  1/2\\n\\n@WHO recently published a summary of tr...  mvankerkhove   en   \n",
              "\n",
              "   replyCount  likeCount  retweetCount tweet_class  \n",
              "0          22        193            63   fake news  \n",
              "1          11        409            46   fake news  \n",
              "2          21        567           192   fake news  \n",
              "3        1972      51420         50128   ambiguous  \n",
              "4         100        606           283   fake news  "
            ],
            "text/html": [
              "\n",
              "\n",
              "  <div id=\"df-007ca863-e269-4b66-b845-a105077d388e\">\n",
              "    <div class=\"colab-df-container\">\n",
              "      <div>\n",
              "<style scoped>\n",
              "    .dataframe tbody tr th:only-of-type {\n",
              "        vertical-align: middle;\n",
              "    }\n",
              "\n",
              "    .dataframe tbody tr th {\n",
              "        vertical-align: top;\n",
              "    }\n",
              "\n",
              "    .dataframe thead th {\n",
              "        text-align: right;\n",
              "    }\n",
              "</style>\n",
              "<table border=\"1\" class=\"dataframe\">\n",
              "  <thead>\n",
              "    <tr style=\"text-align: right;\">\n",
              "      <th></th>\n",
              "      <th>id</th>\n",
              "      <th>date</th>\n",
              "      <th>tweet</th>\n",
              "      <th>username</th>\n",
              "      <th>lang</th>\n",
              "      <th>replyCount</th>\n",
              "      <th>likeCount</th>\n",
              "      <th>retweetCount</th>\n",
              "      <th>tweet_class</th>\n",
              "    </tr>\n",
              "  </thead>\n",
              "  <tbody>\n",
              "    <tr>\n",
              "      <th>0</th>\n",
              "      <td>1.265080e+18</td>\n",
              "      <td>2020-05-26 00:56:04+00:00</td>\n",
              "      <td>Ian Haydon, who is participating in a vaccine ...</td>\n",
              "      <td>AC360</td>\n",
              "      <td>en</td>\n",
              "      <td>22</td>\n",
              "      <td>193</td>\n",
              "      <td>63</td>\n",
              "      <td>fake news</td>\n",
              "    </tr>\n",
              "    <tr>\n",
              "      <th>1</th>\n",
              "      <td>1.252420e+18</td>\n",
              "      <td>2020-04-21 02:16:11+00:00</td>\n",
              "      <td>Gachibowli Sports Tower turns Covid hospital\\n...</td>\n",
              "      <td>BRSparty</td>\n",
              "      <td>en</td>\n",
              "      <td>11</td>\n",
              "      <td>409</td>\n",
              "      <td>46</td>\n",
              "      <td>fake news</td>\n",
              "    </tr>\n",
              "    <tr>\n",
              "      <th>2</th>\n",
              "      <td>1.253760e+18</td>\n",
              "      <td>2020-04-24 19:04:33+00:00</td>\n",
              "      <td>Protesters at state Capitol are chanting \"Wher...</td>\n",
              "      <td>sbauerAP</td>\n",
              "      <td>en</td>\n",
              "      <td>21</td>\n",
              "      <td>567</td>\n",
              "      <td>192</td>\n",
              "      <td>fake news</td>\n",
              "    </tr>\n",
              "    <tr>\n",
              "      <th>3</th>\n",
              "      <td>1.237780e+18</td>\n",
              "      <td>2020-03-11 16:26:53+00:00</td>\n",
              "      <td>🚨 BREAKING 🚨\\n\\n\"We have therefore made the as...</td>\n",
              "      <td>WHO</td>\n",
              "      <td>en</td>\n",
              "      <td>1972</td>\n",
              "      <td>51420</td>\n",
              "      <td>50128</td>\n",
              "      <td>ambiguous</td>\n",
              "    </tr>\n",
              "    <tr>\n",
              "      <th>4</th>\n",
              "      <td>1.270080e+18</td>\n",
              "      <td>2020-06-08 19:53:19+00:00</td>\n",
              "      <td>1/2\\n\\n@WHO recently published a summary of tr...</td>\n",
              "      <td>mvankerkhove</td>\n",
              "      <td>en</td>\n",
              "      <td>100</td>\n",
              "      <td>606</td>\n",
              "      <td>283</td>\n",
              "      <td>fake news</td>\n",
              "    </tr>\n",
              "  </tbody>\n",
              "</table>\n",
              "</div>\n",
              "      <button class=\"colab-df-convert\" onclick=\"convertToInteractive('df-007ca863-e269-4b66-b845-a105077d388e')\"\n",
              "              title=\"Convert this dataframe to an interactive table.\"\n",
              "              style=\"display:none;\">\n",
              "\n",
              "  <svg xmlns=\"http://www.w3.org/2000/svg\" height=\"24px\"viewBox=\"0 0 24 24\"\n",
              "       width=\"24px\">\n",
              "    <path d=\"M0 0h24v24H0V0z\" fill=\"none\"/>\n",
              "    <path d=\"M18.56 5.44l.94 2.06.94-2.06 2.06-.94-2.06-.94-.94-2.06-.94 2.06-2.06.94zm-11 1L8.5 8.5l.94-2.06 2.06-.94-2.06-.94L8.5 2.5l-.94 2.06-2.06.94zm10 10l.94 2.06.94-2.06 2.06-.94-2.06-.94-.94-2.06-.94 2.06-2.06.94z\"/><path d=\"M17.41 7.96l-1.37-1.37c-.4-.4-.92-.59-1.43-.59-.52 0-1.04.2-1.43.59L10.3 9.45l-7.72 7.72c-.78.78-.78 2.05 0 2.83L4 21.41c.39.39.9.59 1.41.59.51 0 1.02-.2 1.41-.59l7.78-7.78 2.81-2.81c.8-.78.8-2.07 0-2.86zM5.41 20L4 18.59l7.72-7.72 1.47 1.35L5.41 20z\"/>\n",
              "  </svg>\n",
              "      </button>\n",
              "\n",
              "\n",
              "\n",
              "    <div id=\"df-73a162eb-f03c-441f-81ae-0da503a0a460\">\n",
              "      <button class=\"colab-df-quickchart\" onclick=\"quickchart('df-73a162eb-f03c-441f-81ae-0da503a0a460')\"\n",
              "              title=\"Suggest charts.\"\n",
              "              style=\"display:none;\">\n",
              "\n",
              "<svg xmlns=\"http://www.w3.org/2000/svg\" height=\"24px\"viewBox=\"0 0 24 24\"\n",
              "     width=\"24px\">\n",
              "    <g>\n",
              "        <path d=\"M19 3H5c-1.1 0-2 .9-2 2v14c0 1.1.9 2 2 2h14c1.1 0 2-.9 2-2V5c0-1.1-.9-2-2-2zM9 17H7v-7h2v7zm4 0h-2V7h2v10zm4 0h-2v-4h2v4z\"/>\n",
              "    </g>\n",
              "</svg>\n",
              "      </button>\n",
              "    </div>\n",
              "\n",
              "<style>\n",
              "  .colab-df-quickchart {\n",
              "    background-color: #E8F0FE;\n",
              "    border: none;\n",
              "    border-radius: 50%;\n",
              "    cursor: pointer;\n",
              "    display: none;\n",
              "    fill: #1967D2;\n",
              "    height: 32px;\n",
              "    padding: 0 0 0 0;\n",
              "    width: 32px;\n",
              "  }\n",
              "\n",
              "  .colab-df-quickchart:hover {\n",
              "    background-color: #E2EBFA;\n",
              "    box-shadow: 0px 1px 2px rgba(60, 64, 67, 0.3), 0px 1px 3px 1px rgba(60, 64, 67, 0.15);\n",
              "    fill: #174EA6;\n",
              "  }\n",
              "\n",
              "  [theme=dark] .colab-df-quickchart {\n",
              "    background-color: #3B4455;\n",
              "    fill: #D2E3FC;\n",
              "  }\n",
              "\n",
              "  [theme=dark] .colab-df-quickchart:hover {\n",
              "    background-color: #434B5C;\n",
              "    box-shadow: 0px 1px 3px 1px rgba(0, 0, 0, 0.15);\n",
              "    filter: drop-shadow(0px 1px 2px rgba(0, 0, 0, 0.3));\n",
              "    fill: #FFFFFF;\n",
              "  }\n",
              "</style>\n",
              "\n",
              "    <script>\n",
              "      async function quickchart(key) {\n",
              "        const containerElement = document.querySelector('#' + key);\n",
              "        const charts = await google.colab.kernel.invokeFunction(\n",
              "            'suggestCharts', [key], {});\n",
              "      }\n",
              "    </script>\n",
              "\n",
              "      <script>\n",
              "\n",
              "function displayQuickchartButton(domScope) {\n",
              "  let quickchartButtonEl =\n",
              "    domScope.querySelector('#df-73a162eb-f03c-441f-81ae-0da503a0a460 button.colab-df-quickchart');\n",
              "  quickchartButtonEl.style.display =\n",
              "    google.colab.kernel.accessAllowed ? 'block' : 'none';\n",
              "}\n",
              "\n",
              "        displayQuickchartButton(document);\n",
              "      </script>\n",
              "      <style>\n",
              "    .colab-df-container {\n",
              "      display:flex;\n",
              "      flex-wrap:wrap;\n",
              "      gap: 12px;\n",
              "    }\n",
              "\n",
              "    .colab-df-convert {\n",
              "      background-color: #E8F0FE;\n",
              "      border: none;\n",
              "      border-radius: 50%;\n",
              "      cursor: pointer;\n",
              "      display: none;\n",
              "      fill: #1967D2;\n",
              "      height: 32px;\n",
              "      padding: 0 0 0 0;\n",
              "      width: 32px;\n",
              "    }\n",
              "\n",
              "    .colab-df-convert:hover {\n",
              "      background-color: #E2EBFA;\n",
              "      box-shadow: 0px 1px 2px rgba(60, 64, 67, 0.3), 0px 1px 3px 1px rgba(60, 64, 67, 0.15);\n",
              "      fill: #174EA6;\n",
              "    }\n",
              "\n",
              "    [theme=dark] .colab-df-convert {\n",
              "      background-color: #3B4455;\n",
              "      fill: #D2E3FC;\n",
              "    }\n",
              "\n",
              "    [theme=dark] .colab-df-convert:hover {\n",
              "      background-color: #434B5C;\n",
              "      box-shadow: 0px 1px 3px 1px rgba(0, 0, 0, 0.15);\n",
              "      filter: drop-shadow(0px 1px 2px rgba(0, 0, 0, 0.3));\n",
              "      fill: #FFFFFF;\n",
              "    }\n",
              "  </style>\n",
              "\n",
              "      <script>\n",
              "        const buttonEl =\n",
              "          document.querySelector('#df-007ca863-e269-4b66-b845-a105077d388e button.colab-df-convert');\n",
              "        buttonEl.style.display =\n",
              "          google.colab.kernel.accessAllowed ? 'block' : 'none';\n",
              "\n",
              "        async function convertToInteractive(key) {\n",
              "          const element = document.querySelector('#df-007ca863-e269-4b66-b845-a105077d388e');\n",
              "          const dataTable =\n",
              "            await google.colab.kernel.invokeFunction('convertToInteractive',\n",
              "                                                     [key], {});\n",
              "          if (!dataTable) return;\n",
              "\n",
              "          const docLinkHtml = 'Like what you see? Visit the ' +\n",
              "            '<a target=\"_blank\" href=https://colab.research.google.com/notebooks/data_table.ipynb>data table notebook</a>'\n",
              "            + ' to learn more about interactive tables.';\n",
              "          element.innerHTML = '';\n",
              "          dataTable['output_type'] = 'display_data';\n",
              "          await google.colab.output.renderOutput(dataTable, element);\n",
              "          const docLink = document.createElement('div');\n",
              "          docLink.innerHTML = docLinkHtml;\n",
              "          element.appendChild(docLink);\n",
              "        }\n",
              "      </script>\n",
              "    </div>\n",
              "  </div>\n"
            ]
          },
          "metadata": {},
          "execution_count": 3
        }
      ],
      "source": [
        "# read in final version of twitter dataset\n",
        "data = pd.read_csv('data/final_twitter_data.csv')\n",
        "data.head()"
      ]
    },
    {
      "cell_type": "code",
      "source": [
        "# keep only relevent columns\n",
        "data = data[['tweet', 'tweet_class']]\n",
        "data.info()"
      ],
      "metadata": {
        "id": "D1d6iCIZEILI",
        "colab": {
          "base_uri": "https://localhost:8080/"
        },
        "outputId": "5cbd9107-ed7c-4e2f-f8ac-ea4016a01b66"
      },
      "execution_count": null,
      "outputs": [
        {
          "output_type": "stream",
          "name": "stdout",
          "text": [
            "<class 'pandas.core.frame.DataFrame'>\n",
            "RangeIndex: 17679 entries, 0 to 17678\n",
            "Data columns (total 2 columns):\n",
            " #   Column       Non-Null Count  Dtype \n",
            "---  ------       --------------  ----- \n",
            " 0   tweet        17679 non-null  object\n",
            " 1   tweet_class  16881 non-null  object\n",
            "dtypes: object(2)\n",
            "memory usage: 276.4+ KB\n"
          ]
        }
      ]
    },
    {
      "cell_type": "code",
      "source": [
        "# drop tweets without a label/class\n",
        "data = data.dropna()\n",
        "data.info()"
      ],
      "metadata": {
        "id": "EmgzJzZ5EkxZ",
        "colab": {
          "base_uri": "https://localhost:8080/"
        },
        "outputId": "f98e478a-40e8-4e0c-c855-376f66511277"
      },
      "execution_count": null,
      "outputs": [
        {
          "output_type": "stream",
          "name": "stdout",
          "text": [
            "<class 'pandas.core.frame.DataFrame'>\n",
            "Int64Index: 16881 entries, 0 to 17678\n",
            "Data columns (total 2 columns):\n",
            " #   Column       Non-Null Count  Dtype \n",
            "---  ------       --------------  ----- \n",
            " 0   tweet        16881 non-null  object\n",
            " 1   tweet_class  16881 non-null  object\n",
            "dtypes: object(2)\n",
            "memory usage: 395.6+ KB\n"
          ]
        }
      ]
    },
    {
      "cell_type": "code",
      "source": [
        "data['tweet_class'].value_counts() # count of tweet classes in dataset"
      ],
      "metadata": {
        "colab": {
          "base_uri": "https://localhost:8080/"
        },
        "id": "1rOMKKiKGKR1",
        "outputId": "6c1043dd-7ef1-4ac4-87b9-3fc38b6e620d"
      },
      "execution_count": null,
      "outputs": [
        {
          "output_type": "execute_result",
          "data": {
            "text/plain": [
              "true news    9004\n",
              "fake news    7395\n",
              "political     378\n",
              "ambiguous     104\n",
              "Name: tweet_class, dtype: int64"
            ]
          },
          "metadata": {},
          "execution_count": 6
        }
      ]
    },
    {
      "cell_type": "code",
      "source": [
        "# drop the political and ambiguous classes as they are not well represented in the dataset\n",
        "dropindex = data[data['tweet_class'].isin(['political', 'ambiguous'])].index\n",
        "data = data.drop(dropindex)\n",
        "data['tweet_class'].value_counts() # count of tweet classes in dataset"
      ],
      "metadata": {
        "id": "Y-Zws0mAGwHW",
        "colab": {
          "base_uri": "https://localhost:8080/"
        },
        "outputId": "ad14adf8-abda-4f1f-a893-31df5e69e8af"
      },
      "execution_count": null,
      "outputs": [
        {
          "output_type": "execute_result",
          "data": {
            "text/plain": [
              "true news    9004\n",
              "fake news    7395\n",
              "Name: tweet_class, dtype: int64"
            ]
          },
          "metadata": {},
          "execution_count": 7
        }
      ]
    },
    {
      "cell_type": "markdown",
      "source": [
        "## **Clean and Process Tweets**"
      ],
      "metadata": {
        "id": "3Qx4WEv0gD_q"
      }
    },
    {
      "cell_type": "markdown",
      "source": [
        "Createing a `clean_text` function to clean tweets."
      ],
      "metadata": {
        "id": "trAv7d6kgPF7"
      }
    },
    {
      "cell_type": "code",
      "source": [
        "import re\n",
        "\n",
        "def clean_text(text):\n",
        "    pat1 = r'@[^ ]+' # [^ ]+\n",
        "    pat2 = r'https?://[A-Za-z0-9./]+'\n",
        "    pat3 = r'\\'s'\n",
        "    pat4 = r'\\#\\w+'\n",
        "    pat5 = r'&amp '\n",
        "    pat6 = r'[^A-Za-z\\s]'\n",
        "    pat7 = r'\\n'\n",
        "    combined_pat = r'|'.join((pat1, pat2, pat3, pat4, pat5, pat6, pat7)) # combines created regex patterns set above\n",
        "    text = re.sub(combined_pat, ' ', text) # removes those regex patterns from text passed through the function\n",
        "    text = re.sub(' +', ' ', text) # removes unwanted whitespace within cleaned tweet\n",
        "    return text.strip() # returns the text and strips leading and trailing whitespace\n",
        "\n",
        "data['cleaned_tweet'] = data['tweet'].apply(clean_text)\n",
        "display(data['cleaned_tweet'][0:5])"
      ],
      "metadata": {
        "colab": {
          "base_uri": "https://localhost:8080/",
          "height": 127
        },
        "id": "AVMjQQAPfp0-",
        "outputId": "90d15e18-4271-459e-afec-8710a76e8e03"
      },
      "execution_count": null,
      "outputs": [
        {
          "output_type": "display_data",
          "data": {
            "text/plain": [
              "0    Ian Haydon who is participating in a vaccine t...\n",
              "1    Gachibowli Sports Tower turns Covid hospital T...\n",
              "2    Protesters at state Capitol are chanting Where...\n",
              "4    recently published a summary of transmission o...\n",
              "5    on transmission from asymptomatic individuals ...\n",
              "Name: cleaned_tweet, dtype: object"
            ]
          },
          "metadata": {}
        }
      ]
    },
    {
      "cell_type": "markdown",
      "source": [
        "Process the text of the tweets by making all the text lowercase, removing stopwords, applying lemmatization and applying stemming."
      ],
      "metadata": {
        "id": "y8k3Icy3gwad"
      }
    },
    {
      "cell_type": "code",
      "source": [
        "import nltk\n",
        "from nltk.stem import WordNetLemmatizer, SnowballStemmer\n",
        "from nltk.corpus import stopwords\n",
        "\n",
        "stop = set(stopwords.words('english')) # initiate the list of stop words to be removed\n",
        "new_stop = ['via'] # identify any additional stop words to be considered\n",
        "all_stop = stop.union(new_stop) # add those new stopwords to the already defined list of stop words\n",
        "\n",
        "stemmer = SnowballStemmer('english') # initiate the stemmer to be used\n",
        "lemma = WordNetLemmatizer() # initiate the lemmatizer to be applied to the tweet text\n",
        "\n",
        "# now we will process the tweet text\n",
        "data['processed_tweet'] = data['cleaned_tweet'].str.lower() # make the tweets all lowercase\n",
        "data['processed_tweet'] = data['processed_tweet'].apply(lambda x: ' '.join([word for word in x.split() if word not in (all_stop)])) # remove the set of stop words from the tweet data\n",
        "data['processed_tweet'] = data['processed_tweet'].apply(lambda x: ''.join([lemma.lemmatize(y) for y in x])) # apply lemmatizer to tweet text\n",
        "data['processed_tweet'] = data['processed_tweet'].apply(lambda x: ''.join([stemmer.stem(y) for y in x]))"
      ],
      "metadata": {
        "id": "UEpoRCTMgXtn"
      },
      "execution_count": null,
      "outputs": []
    },
    {
      "cell_type": "markdown",
      "source": [
        "## **Prepare Data for Machine Learning Models**"
      ],
      "metadata": {
        "id": "8iWtnZOlhBnZ"
      }
    },
    {
      "cell_type": "markdown",
      "source": [
        "An encoder is used to create a binary representation of the target class, TF-IDF vectorization is applied to the tweet data, and train and test splits are set for the data. A 70/30 percent split was used for the train and test datasets respectively."
      ],
      "metadata": {
        "id": "9xw-T2a2_IRl"
      }
    },
    {
      "cell_type": "code",
      "source": [
        "# create binary numerical representation of tweet classes\n",
        "Encoder = LabelEncoder()\n",
        "data['class'] = Encoder.fit_transform(data['tweet_class'])\n",
        "\n",
        "# x and y split\n",
        "x = data['processed_tweet']\n",
        "y = data['class']\n",
        "\n",
        "# tfidf vectorization of x (tweet data)\n",
        "tfidf_vect = TfidfVectorizer(max_features=7000) # the tfidf vectorizer is initiated and max number of tweet features is set\n",
        "x_tfidf = tfidf_vect.fit_transform(x) # the tfidf vectorizer is used to transform the tweet data to the appropriate format\n",
        "\n",
        "# split train and test data\n",
        "train_x, test_x, train_y, test_y = model_selection.train_test_split(x_tfidf, y, test_size=0.3, stratify=y)"
      ],
      "metadata": {
        "id": "mLzJpSjJA0eQ"
      },
      "execution_count": null,
      "outputs": []
    },
    {
      "cell_type": "markdown",
      "source": [
        "The following shows the shapes of the training and test datasets."
      ],
      "metadata": {
        "id": "TEOB5DOuiWeY"
      }
    },
    {
      "cell_type": "code",
      "source": [
        "print(train_x.shape)\n",
        "print(test_x.shape)\n",
        "print(train_y.shape)\n",
        "print(test_y.shape)"
      ],
      "metadata": {
        "id": "lxjFtq1iCGQj",
        "colab": {
          "base_uri": "https://localhost:8080/"
        },
        "outputId": "9aa765a8-be62-417f-9d91-67bfed3e6d73"
      },
      "execution_count": null,
      "outputs": [
        {
          "output_type": "stream",
          "name": "stdout",
          "text": [
            "(11479, 7000)\n",
            "(4920, 7000)\n",
            "(11479,)\n",
            "(4920,)\n"
          ]
        }
      ]
    },
    {
      "cell_type": "markdown",
      "source": [
        "## **Using XGBoost to Make Class Predictions**\n",
        "\n",
        "Multiple machine learning models are test to see which one is able to make misinformation predeictions the best."
      ],
      "metadata": {
        "id": "CVRPsM2nCCij"
      }
    },
    {
      "cell_type": "code",
      "execution_count": null,
      "metadata": {
        "id": "RQl9c0LMA_uj"
      },
      "outputs": [],
      "source": [
        "# set random seed for consistent results\n",
        "np.random.seed(100)"
      ]
    },
    {
      "cell_type": "markdown",
      "source": [
        "#### XGBoost Model"
      ],
      "metadata": {
        "id": "nIaqiq9IGfsq"
      }
    },
    {
      "cell_type": "code",
      "source": [
        "xgb.XGBClassifier().get_params() # view the parameters of the XGBoost classifier"
      ],
      "metadata": {
        "colab": {
          "base_uri": "https://localhost:8080/"
        },
        "id": "gb1B5hJcMohp",
        "outputId": "4429cdbd-43f8-4899-ed94-aa9c634027a7"
      },
      "execution_count": null,
      "outputs": [
        {
          "output_type": "execute_result",
          "data": {
            "text/plain": [
              "{'objective': 'binary:logistic',\n",
              " 'use_label_encoder': None,\n",
              " 'base_score': None,\n",
              " 'booster': None,\n",
              " 'callbacks': None,\n",
              " 'colsample_bylevel': None,\n",
              " 'colsample_bynode': None,\n",
              " 'colsample_bytree': None,\n",
              " 'early_stopping_rounds': None,\n",
              " 'enable_categorical': False,\n",
              " 'eval_metric': None,\n",
              " 'feature_types': None,\n",
              " 'gamma': None,\n",
              " 'gpu_id': None,\n",
              " 'grow_policy': None,\n",
              " 'importance_type': None,\n",
              " 'interaction_constraints': None,\n",
              " 'learning_rate': None,\n",
              " 'max_bin': None,\n",
              " 'max_cat_threshold': None,\n",
              " 'max_cat_to_onehot': None,\n",
              " 'max_delta_step': None,\n",
              " 'max_depth': None,\n",
              " 'max_leaves': None,\n",
              " 'min_child_weight': None,\n",
              " 'missing': nan,\n",
              " 'monotone_constraints': None,\n",
              " 'n_estimators': 100,\n",
              " 'n_jobs': None,\n",
              " 'num_parallel_tree': None,\n",
              " 'predictor': None,\n",
              " 'random_state': None,\n",
              " 'reg_alpha': None,\n",
              " 'reg_lambda': None,\n",
              " 'sampling_method': None,\n",
              " 'scale_pos_weight': None,\n",
              " 'subsample': None,\n",
              " 'tree_method': None,\n",
              " 'validate_parameters': None,\n",
              " 'verbosity': None}"
            ]
          },
          "metadata": {},
          "execution_count": 13
        }
      ]
    },
    {
      "cell_type": "markdown",
      "source": [
        "First, grid search and cross validation methods will be used to identify the optimal version of the XGBoost classifier model."
      ],
      "metadata": {
        "id": "1Q2zt0eUR57v"
      }
    },
    {
      "cell_type": "code",
      "source": [
        "# fit the training dataset on the XGBoost classifier\n",
        "xgb = XGBClassifier(objective='binary:logistic', booster='gbtree')\n",
        "\n",
        "# gridsearch parameters and initiation\n",
        "xgb_params = {'max_depth': [5, 10, 15, 20],\n",
        "              'learning_rate': [0.1, 0.2, 0.3, 0.4, 0.5],\n",
        "              'n_estimators': [100, 500, 1000]}\n",
        "\n",
        "xgb = GridSearchCV(xgb, xgb_params, refit=True, cv=5, verbose=2)\n",
        "\n",
        "# fitting the random forest model\n",
        "xgb = xgb.fit(train_x, train_y)\n",
        "\n",
        "# evaluate the pexgbormance of the model\n",
        "print('\\n', xgb.best_params_)"
      ],
      "metadata": {
        "id": "O7Ilv3ubLaSn",
        "colab": {
          "base_uri": "https://localhost:8080/"
        },
        "outputId": "499eb28e-f82d-4316-d29c-8877c2fccd23"
      },
      "execution_count": 14,
      "outputs": [
        {
          "output_type": "stream",
          "name": "stdout",
          "text": [
            "Fitting 5 folds for each of 60 candidates, totalling 300 fits\n",
            "[CV] END ...learning_rate=0.1, max_depth=5, n_estimators=100; total time=   5.6s\n",
            "[CV] END ...learning_rate=0.1, max_depth=5, n_estimators=100; total time=   3.1s\n",
            "[CV] END ...learning_rate=0.1, max_depth=5, n_estimators=100; total time=   3.0s\n",
            "[CV] END ...learning_rate=0.1, max_depth=5, n_estimators=100; total time=   3.0s\n",
            "[CV] END ...learning_rate=0.1, max_depth=5, n_estimators=100; total time=   5.7s\n",
            "[CV] END ...learning_rate=0.1, max_depth=5, n_estimators=500; total time=  17.6s\n",
            "[CV] END ...learning_rate=0.1, max_depth=5, n_estimators=500; total time=  22.2s\n",
            "[CV] END ...learning_rate=0.1, max_depth=5, n_estimators=500; total time=  27.9s\n",
            "[CV] END ...learning_rate=0.1, max_depth=5, n_estimators=500; total time=  16.9s\n",
            "[CV] END ...learning_rate=0.1, max_depth=5, n_estimators=500; total time=  16.9s\n",
            "[CV] END ..learning_rate=0.1, max_depth=5, n_estimators=1000; total time=  35.1s\n",
            "[CV] END ..learning_rate=0.1, max_depth=5, n_estimators=1000; total time=  32.4s\n",
            "[CV] END ..learning_rate=0.1, max_depth=5, n_estimators=1000; total time=  35.2s\n",
            "[CV] END ..learning_rate=0.1, max_depth=5, n_estimators=1000; total time=  35.0s\n",
            "[CV] END ..learning_rate=0.1, max_depth=5, n_estimators=1000; total time=  32.5s\n",
            "[CV] END ..learning_rate=0.1, max_depth=10, n_estimators=100; total time=   7.8s\n",
            "[CV] END ..learning_rate=0.1, max_depth=10, n_estimators=100; total time=   5.2s\n",
            "[CV] END ..learning_rate=0.1, max_depth=10, n_estimators=100; total time=   7.8s\n",
            "[CV] END ..learning_rate=0.1, max_depth=10, n_estimators=100; total time=   5.1s\n",
            "[CV] END ..learning_rate=0.1, max_depth=10, n_estimators=100; total time=   7.9s\n",
            "[CV] END ..learning_rate=0.1, max_depth=10, n_estimators=500; total time=  28.8s\n",
            "[CV] END ..learning_rate=0.1, max_depth=10, n_estimators=500; total time=  28.6s\n",
            "[CV] END ..learning_rate=0.1, max_depth=10, n_estimators=500; total time=  30.6s\n",
            "[CV] END ..learning_rate=0.1, max_depth=10, n_estimators=500; total time=  28.7s\n",
            "[CV] END ..learning_rate=0.1, max_depth=10, n_estimators=500; total time=  31.8s\n",
            "[CV] END .learning_rate=0.1, max_depth=10, n_estimators=1000; total time=  54.0s\n",
            "[CV] END .learning_rate=0.1, max_depth=10, n_estimators=1000; total time=  54.1s\n",
            "[CV] END .learning_rate=0.1, max_depth=10, n_estimators=1000; total time=  54.3s\n",
            "[CV] END .learning_rate=0.1, max_depth=10, n_estimators=1000; total time=  54.4s\n",
            "[CV] END .learning_rate=0.1, max_depth=10, n_estimators=1000; total time=  54.2s\n",
            "[CV] END ..learning_rate=0.1, max_depth=15, n_estimators=100; total time=   9.8s\n",
            "[CV] END ..learning_rate=0.1, max_depth=15, n_estimators=100; total time=   7.2s\n",
            "[CV] END ..learning_rate=0.1, max_depth=15, n_estimators=100; total time=   9.9s\n",
            "[CV] END ..learning_rate=0.1, max_depth=15, n_estimators=100; total time=   9.8s\n",
            "[CV] END ..learning_rate=0.1, max_depth=15, n_estimators=100; total time=   7.4s\n",
            "[CV] END ..learning_rate=0.1, max_depth=15, n_estimators=500; total time=  39.1s\n",
            "[CV] END ..learning_rate=0.1, max_depth=15, n_estimators=500; total time=  39.3s\n",
            "[CV] END ..learning_rate=0.1, max_depth=15, n_estimators=500; total time=  39.2s\n",
            "[CV] END ..learning_rate=0.1, max_depth=15, n_estimators=500; total time=  39.2s\n",
            "[CV] END ..learning_rate=0.1, max_depth=15, n_estimators=500; total time=  39.4s\n",
            "[CV] END .learning_rate=0.1, max_depth=15, n_estimators=1000; total time= 1.2min\n",
            "[CV] END .learning_rate=0.1, max_depth=15, n_estimators=1000; total time= 1.2min\n",
            "[CV] END .learning_rate=0.1, max_depth=15, n_estimators=1000; total time= 1.2min\n",
            "[CV] END .learning_rate=0.1, max_depth=15, n_estimators=1000; total time= 1.2min\n",
            "[CV] END .learning_rate=0.1, max_depth=15, n_estimators=1000; total time= 1.2min\n",
            "[CV] END ..learning_rate=0.1, max_depth=20, n_estimators=100; total time=  11.7s\n",
            "[CV] END ..learning_rate=0.1, max_depth=20, n_estimators=100; total time=  11.7s\n",
            "[CV] END ..learning_rate=0.1, max_depth=20, n_estimators=100; total time=  11.7s\n",
            "[CV] END ..learning_rate=0.1, max_depth=20, n_estimators=100; total time=  11.7s\n",
            "[CV] END ..learning_rate=0.1, max_depth=20, n_estimators=100; total time=   9.4s\n",
            "[CV] END ..learning_rate=0.1, max_depth=20, n_estimators=500; total time=  49.1s\n",
            "[CV] END ..learning_rate=0.1, max_depth=20, n_estimators=500; total time=  48.7s\n",
            "[CV] END ..learning_rate=0.1, max_depth=20, n_estimators=500; total time=  45.8s\n",
            "[CV] END ..learning_rate=0.1, max_depth=20, n_estimators=500; total time=  48.6s\n",
            "[CV] END ..learning_rate=0.1, max_depth=20, n_estimators=500; total time=  46.6s\n",
            "[CV] END .learning_rate=0.1, max_depth=20, n_estimators=1000; total time= 1.4min\n",
            "[CV] END .learning_rate=0.1, max_depth=20, n_estimators=1000; total time= 1.4min\n",
            "[CV] END .learning_rate=0.1, max_depth=20, n_estimators=1000; total time= 1.4min\n",
            "[CV] END .learning_rate=0.1, max_depth=20, n_estimators=1000; total time= 1.4min\n",
            "[CV] END .learning_rate=0.1, max_depth=20, n_estimators=1000; total time= 1.4min\n",
            "[CV] END ...learning_rate=0.2, max_depth=5, n_estimators=100; total time=   5.6s\n",
            "[CV] END ...learning_rate=0.2, max_depth=5, n_estimators=100; total time=   2.9s\n",
            "[CV] END ...learning_rate=0.2, max_depth=5, n_estimators=100; total time=   2.9s\n",
            "[CV] END ...learning_rate=0.2, max_depth=5, n_estimators=100; total time=   2.9s\n",
            "[CV] END ...learning_rate=0.2, max_depth=5, n_estimators=100; total time=   5.6s\n",
            "[CV] END ...learning_rate=0.2, max_depth=5, n_estimators=500; total time=  16.3s\n",
            "[CV] END ...learning_rate=0.2, max_depth=5, n_estimators=500; total time=  16.2s\n",
            "[CV] END ...learning_rate=0.2, max_depth=5, n_estimators=500; total time=  18.9s\n",
            "[CV] END ...learning_rate=0.2, max_depth=5, n_estimators=500; total time=  16.2s\n",
            "[CV] END ...learning_rate=0.2, max_depth=5, n_estimators=500; total time=  16.3s\n",
            "[CV] END ..learning_rate=0.2, max_depth=5, n_estimators=1000; total time=  33.3s\n",
            "[CV] END ..learning_rate=0.2, max_depth=5, n_estimators=1000; total time=  30.5s\n",
            "[CV] END ..learning_rate=0.2, max_depth=5, n_estimators=1000; total time=  30.5s\n",
            "[CV] END ..learning_rate=0.2, max_depth=5, n_estimators=1000; total time=  33.1s\n",
            "[CV] END ..learning_rate=0.2, max_depth=5, n_estimators=1000; total time=  30.8s\n",
            "[CV] END ..learning_rate=0.2, max_depth=10, n_estimators=100; total time=   7.7s\n",
            "[CV] END ..learning_rate=0.2, max_depth=10, n_estimators=100; total time=   5.0s\n",
            "[CV] END ..learning_rate=0.2, max_depth=10, n_estimators=100; total time=   5.1s\n",
            "[CV] END ..learning_rate=0.2, max_depth=10, n_estimators=100; total time=   7.9s\n",
            "[CV] END ..learning_rate=0.2, max_depth=10, n_estimators=100; total time=   5.3s\n",
            "[CV] END ..learning_rate=0.2, max_depth=10, n_estimators=500; total time=  31.2s\n",
            "[CV] END ..learning_rate=0.2, max_depth=10, n_estimators=500; total time=  26.8s\n",
            "[CV] END ..learning_rate=0.2, max_depth=10, n_estimators=500; total time=  26.6s\n",
            "[CV] END ..learning_rate=0.2, max_depth=10, n_estimators=500; total time=  26.7s\n",
            "[CV] END ..learning_rate=0.2, max_depth=10, n_estimators=500; total time=  27.0s\n",
            "[CV] END .learning_rate=0.2, max_depth=10, n_estimators=1000; total time=  46.9s\n",
            "[CV] END .learning_rate=0.2, max_depth=10, n_estimators=1000; total time=  49.9s\n",
            "[CV] END .learning_rate=0.2, max_depth=10, n_estimators=1000; total time=  50.0s\n",
            "[CV] END .learning_rate=0.2, max_depth=10, n_estimators=1000; total time=  47.0s\n",
            "[CV] END .learning_rate=0.2, max_depth=10, n_estimators=1000; total time=  49.4s\n",
            "[CV] END ..learning_rate=0.2, max_depth=15, n_estimators=100; total time=   9.5s\n",
            "[CV] END ..learning_rate=0.2, max_depth=15, n_estimators=100; total time=   6.8s\n",
            "[CV] END ..learning_rate=0.2, max_depth=15, n_estimators=100; total time=   9.5s\n",
            "[CV] END ..learning_rate=0.2, max_depth=15, n_estimators=100; total time=   9.4s\n",
            "[CV] END ..learning_rate=0.2, max_depth=15, n_estimators=100; total time=   6.8s\n",
            "[CV] END ..learning_rate=0.2, max_depth=15, n_estimators=500; total time=  35.9s\n",
            "[CV] END ..learning_rate=0.2, max_depth=15, n_estimators=500; total time=  36.0s\n",
            "[CV] END ..learning_rate=0.2, max_depth=15, n_estimators=500; total time=  33.7s\n",
            "[CV] END ..learning_rate=0.2, max_depth=15, n_estimators=500; total time=  36.5s\n",
            "[CV] END ..learning_rate=0.2, max_depth=15, n_estimators=500; total time=  36.8s\n",
            "[CV] END .learning_rate=0.2, max_depth=15, n_estimators=1000; total time= 1.0min\n",
            "[CV] END .learning_rate=0.2, max_depth=15, n_estimators=1000; total time= 1.1min\n",
            "[CV] END .learning_rate=0.2, max_depth=15, n_estimators=1000; total time= 1.1min\n",
            "[CV] END .learning_rate=0.2, max_depth=15, n_estimators=1000; total time= 1.1min\n",
            "[CV] END .learning_rate=0.2, max_depth=15, n_estimators=1000; total time= 1.1min\n",
            "[CV] END ..learning_rate=0.2, max_depth=20, n_estimators=100; total time=   8.4s\n",
            "[CV] END ..learning_rate=0.2, max_depth=20, n_estimators=100; total time=  11.0s\n",
            "[CV] END ..learning_rate=0.2, max_depth=20, n_estimators=100; total time=  11.0s\n",
            "[CV] END ..learning_rate=0.2, max_depth=20, n_estimators=100; total time=  11.1s\n",
            "[CV] END ..learning_rate=0.2, max_depth=20, n_estimators=100; total time=  11.2s\n",
            "[CV] END ..learning_rate=0.2, max_depth=20, n_estimators=500; total time=  41.9s\n",
            "[CV] END ..learning_rate=0.2, max_depth=20, n_estimators=500; total time=  41.9s\n",
            "[CV] END ..learning_rate=0.2, max_depth=20, n_estimators=500; total time=  41.3s\n",
            "[CV] END ..learning_rate=0.2, max_depth=20, n_estimators=500; total time=  41.5s\n",
            "[CV] END ..learning_rate=0.2, max_depth=20, n_estimators=500; total time=  44.3s\n",
            "[CV] END .learning_rate=0.2, max_depth=20, n_estimators=1000; total time= 1.2min\n",
            "[CV] END .learning_rate=0.2, max_depth=20, n_estimators=1000; total time= 1.2min\n",
            "[CV] END .learning_rate=0.2, max_depth=20, n_estimators=1000; total time= 1.2min\n",
            "[CV] END .learning_rate=0.2, max_depth=20, n_estimators=1000; total time= 1.2min\n",
            "[CV] END .learning_rate=0.2, max_depth=20, n_estimators=1000; total time= 1.2min\n",
            "[CV] END ...learning_rate=0.3, max_depth=5, n_estimators=100; total time=   2.9s\n",
            "[CV] END ...learning_rate=0.3, max_depth=5, n_estimators=100; total time=   4.0s\n",
            "[CV] END ...learning_rate=0.3, max_depth=5, n_estimators=100; total time=   4.4s\n",
            "[CV] END ...learning_rate=0.3, max_depth=5, n_estimators=100; total time=   2.9s\n",
            "[CV] END ...learning_rate=0.3, max_depth=5, n_estimators=100; total time=   2.9s\n",
            "[CV] END ...learning_rate=0.3, max_depth=5, n_estimators=500; total time=  18.2s\n",
            "[CV] END ...learning_rate=0.3, max_depth=5, n_estimators=500; total time=  15.6s\n",
            "[CV] END ...learning_rate=0.3, max_depth=5, n_estimators=500; total time=  15.7s\n",
            "[CV] END ...learning_rate=0.3, max_depth=5, n_estimators=500; total time=  15.5s\n",
            "[CV] END ...learning_rate=0.3, max_depth=5, n_estimators=500; total time=  15.7s\n",
            "[CV] END ..learning_rate=0.3, max_depth=5, n_estimators=1000; total time=  31.9s\n",
            "[CV] END ..learning_rate=0.3, max_depth=5, n_estimators=1000; total time=  29.4s\n",
            "[CV] END ..learning_rate=0.3, max_depth=5, n_estimators=1000; total time=  29.6s\n",
            "[CV] END ..learning_rate=0.3, max_depth=5, n_estimators=1000; total time=  33.0s\n",
            "[CV] END ..learning_rate=0.3, max_depth=5, n_estimators=1000; total time=  29.8s\n",
            "[CV] END ..learning_rate=0.3, max_depth=10, n_estimators=100; total time=   4.9s\n",
            "[CV] END ..learning_rate=0.3, max_depth=10, n_estimators=100; total time=   7.5s\n",
            "[CV] END ..learning_rate=0.3, max_depth=10, n_estimators=100; total time=   4.9s\n",
            "[CV] END ..learning_rate=0.3, max_depth=10, n_estimators=100; total time=   7.4s\n",
            "[CV] END ..learning_rate=0.3, max_depth=10, n_estimators=100; total time=   4.9s\n",
            "[CV] END ..learning_rate=0.3, max_depth=10, n_estimators=500; total time=  25.7s\n",
            "[CV] END ..learning_rate=0.3, max_depth=10, n_estimators=500; total time=  25.8s\n",
            "[CV] END ..learning_rate=0.3, max_depth=10, n_estimators=500; total time=  25.6s\n",
            "[CV] END ..learning_rate=0.3, max_depth=10, n_estimators=500; total time=  25.8s\n",
            "[CV] END ..learning_rate=0.3, max_depth=10, n_estimators=500; total time=  25.6s\n",
            "[CV] END .learning_rate=0.3, max_depth=10, n_estimators=1000; total time=  44.6s\n",
            "[CV] END .learning_rate=0.3, max_depth=10, n_estimators=1000; total time=  47.3s\n",
            "[CV] END .learning_rate=0.3, max_depth=10, n_estimators=1000; total time=  44.7s\n",
            "[CV] END .learning_rate=0.3, max_depth=10, n_estimators=1000; total time=  47.6s\n",
            "[CV] END .learning_rate=0.3, max_depth=10, n_estimators=1000; total time=  45.0s\n",
            "[CV] END ..learning_rate=0.3, max_depth=15, n_estimators=100; total time=   9.2s\n",
            "[CV] END ..learning_rate=0.3, max_depth=15, n_estimators=100; total time=   6.6s\n",
            "[CV] END ..learning_rate=0.3, max_depth=15, n_estimators=100; total time=   9.3s\n",
            "[CV] END ..learning_rate=0.3, max_depth=15, n_estimators=100; total time=   9.2s\n",
            "[CV] END ..learning_rate=0.3, max_depth=15, n_estimators=100; total time=   6.6s\n",
            "[CV] END ..learning_rate=0.3, max_depth=15, n_estimators=500; total time=  34.4s\n",
            "[CV] END ..learning_rate=0.3, max_depth=15, n_estimators=500; total time=  31.6s\n",
            "[CV] END ..learning_rate=0.3, max_depth=15, n_estimators=500; total time=  34.1s\n",
            "[CV] END ..learning_rate=0.3, max_depth=15, n_estimators=500; total time=  31.6s\n",
            "[CV] END ..learning_rate=0.3, max_depth=15, n_estimators=500; total time=  34.5s\n",
            "[CV] END .learning_rate=0.3, max_depth=15, n_estimators=1000; total time=  57.7s\n",
            "[CV] END .learning_rate=0.3, max_depth=15, n_estimators=1000; total time= 1.0min\n",
            "[CV] END .learning_rate=0.3, max_depth=15, n_estimators=1000; total time=  57.7s\n",
            "[CV] END .learning_rate=0.3, max_depth=15, n_estimators=1000; total time=  59.0s\n",
            "[CV] END .learning_rate=0.3, max_depth=15, n_estimators=1000; total time=  58.9s\n",
            "[CV] END ..learning_rate=0.3, max_depth=20, n_estimators=100; total time=  10.7s\n",
            "[CV] END ..learning_rate=0.3, max_depth=20, n_estimators=100; total time=   8.1s\n",
            "[CV] END ..learning_rate=0.3, max_depth=20, n_estimators=100; total time=  10.6s\n",
            "[CV] END ..learning_rate=0.3, max_depth=20, n_estimators=100; total time=  10.6s\n",
            "[CV] END ..learning_rate=0.3, max_depth=20, n_estimators=100; total time=  10.7s\n",
            "[CV] END ..learning_rate=0.3, max_depth=20, n_estimators=500; total time=  38.4s\n",
            "[CV] END ..learning_rate=0.3, max_depth=20, n_estimators=500; total time=  39.2s\n",
            "[CV] END ..learning_rate=0.3, max_depth=20, n_estimators=500; total time=  38.7s\n",
            "[CV] END ..learning_rate=0.3, max_depth=20, n_estimators=500; total time=  36.2s\n",
            "[CV] END ..learning_rate=0.3, max_depth=20, n_estimators=500; total time=  39.1s\n",
            "[CV] END .learning_rate=0.3, max_depth=20, n_estimators=1000; total time= 1.1min\n",
            "[CV] END .learning_rate=0.3, max_depth=20, n_estimators=1000; total time= 1.1min\n",
            "[CV] END .learning_rate=0.3, max_depth=20, n_estimators=1000; total time= 1.1min\n",
            "[CV] END .learning_rate=0.3, max_depth=20, n_estimators=1000; total time= 1.1min\n",
            "[CV] END .learning_rate=0.3, max_depth=20, n_estimators=1000; total time= 1.1min\n",
            "[CV] END ...learning_rate=0.4, max_depth=5, n_estimators=100; total time=   2.9s\n",
            "[CV] END ...learning_rate=0.4, max_depth=5, n_estimators=100; total time=   2.9s\n",
            "[CV] END ...learning_rate=0.4, max_depth=5, n_estimators=100; total time=   5.5s\n",
            "[CV] END ...learning_rate=0.4, max_depth=5, n_estimators=100; total time=   2.9s\n",
            "[CV] END ...learning_rate=0.4, max_depth=5, n_estimators=100; total time=   2.9s\n",
            "[CV] END ...learning_rate=0.4, max_depth=5, n_estimators=500; total time=  15.3s\n",
            "[CV] END ...learning_rate=0.4, max_depth=5, n_estimators=500; total time=  17.9s\n",
            "[CV] END ...learning_rate=0.4, max_depth=5, n_estimators=500; total time=  15.4s\n",
            "[CV] END ...learning_rate=0.4, max_depth=5, n_estimators=500; total time=  15.2s\n",
            "[CV] END ...learning_rate=0.4, max_depth=5, n_estimators=500; total time=  15.2s\n",
            "[CV] END ..learning_rate=0.4, max_depth=5, n_estimators=1000; total time=  28.6s\n",
            "[CV] END ..learning_rate=0.4, max_depth=5, n_estimators=1000; total time=  31.3s\n",
            "[CV] END ..learning_rate=0.4, max_depth=5, n_estimators=1000; total time=  28.8s\n",
            "[CV] END ..learning_rate=0.4, max_depth=5, n_estimators=1000; total time=  28.7s\n",
            "[CV] END ..learning_rate=0.4, max_depth=5, n_estimators=1000; total time=  28.8s\n",
            "[CV] END ..learning_rate=0.4, max_depth=10, n_estimators=100; total time=   7.5s\n",
            "[CV] END ..learning_rate=0.4, max_depth=10, n_estimators=100; total time=   4.8s\n",
            "[CV] END ..learning_rate=0.4, max_depth=10, n_estimators=100; total time=   7.5s\n",
            "[CV] END ..learning_rate=0.4, max_depth=10, n_estimators=100; total time=   4.7s\n",
            "[CV] END ..learning_rate=0.4, max_depth=10, n_estimators=100; total time=   7.5s\n",
            "[CV] END ..learning_rate=0.4, max_depth=10, n_estimators=500; total time=  22.1s\n",
            "[CV] END ..learning_rate=0.4, max_depth=10, n_estimators=500; total time=  24.6s\n",
            "[CV] END ..learning_rate=0.4, max_depth=10, n_estimators=500; total time=  24.8s\n",
            "[CV] END ..learning_rate=0.4, max_depth=10, n_estimators=500; total time=  24.7s\n",
            "[CV] END ..learning_rate=0.4, max_depth=10, n_estimators=500; total time=  24.8s\n",
            "[CV] END .learning_rate=0.4, max_depth=10, n_estimators=1000; total time=  43.2s\n",
            "[CV] END .learning_rate=0.4, max_depth=10, n_estimators=1000; total time=  43.1s\n",
            "[CV] END .learning_rate=0.4, max_depth=10, n_estimators=1000; total time=  46.0s\n",
            "[CV] END .learning_rate=0.4, max_depth=10, n_estimators=1000; total time=  43.2s\n",
            "[CV] END .learning_rate=0.4, max_depth=10, n_estimators=1000; total time=  43.4s\n",
            "[CV] END ..learning_rate=0.4, max_depth=15, n_estimators=100; total time=   9.0s\n",
            "[CV] END ..learning_rate=0.4, max_depth=15, n_estimators=100; total time=   8.9s\n",
            "[CV] END ..learning_rate=0.4, max_depth=15, n_estimators=100; total time=   6.3s\n",
            "[CV] END ..learning_rate=0.4, max_depth=15, n_estimators=100; total time=   9.0s\n",
            "[CV] END ..learning_rate=0.4, max_depth=15, n_estimators=100; total time=   6.4s\n",
            "[CV] END ..learning_rate=0.4, max_depth=15, n_estimators=500; total time=  32.8s\n",
            "[CV] END ..learning_rate=0.4, max_depth=15, n_estimators=500; total time=  30.1s\n",
            "[CV] END ..learning_rate=0.4, max_depth=15, n_estimators=500; total time=  30.3s\n",
            "[CV] END ..learning_rate=0.4, max_depth=15, n_estimators=500; total time=  32.8s\n",
            "[CV] END ..learning_rate=0.4, max_depth=15, n_estimators=500; total time=  30.2s\n",
            "[CV] END .learning_rate=0.4, max_depth=15, n_estimators=1000; total time=  54.7s\n",
            "[CV] END .learning_rate=0.4, max_depth=15, n_estimators=1000; total time=  57.4s\n",
            "[CV] END .learning_rate=0.4, max_depth=15, n_estimators=1000; total time=  54.5s\n",
            "[CV] END .learning_rate=0.4, max_depth=15, n_estimators=1000; total time=  54.9s\n",
            "[CV] END .learning_rate=0.4, max_depth=15, n_estimators=1000; total time=  54.5s\n",
            "[CV] END ..learning_rate=0.4, max_depth=20, n_estimators=100; total time=  10.4s\n",
            "[CV] END ..learning_rate=0.4, max_depth=20, n_estimators=100; total time=  10.4s\n",
            "[CV] END ..learning_rate=0.4, max_depth=20, n_estimators=100; total time=   7.7s\n",
            "[CV] END ..learning_rate=0.4, max_depth=20, n_estimators=100; total time=  10.4s\n",
            "[CV] END ..learning_rate=0.4, max_depth=20, n_estimators=100; total time=  10.4s\n",
            "[CV] END ..learning_rate=0.4, max_depth=20, n_estimators=500; total time=  36.7s\n",
            "[CV] END ..learning_rate=0.4, max_depth=20, n_estimators=500; total time=  33.8s\n",
            "[CV] END ..learning_rate=0.4, max_depth=20, n_estimators=500; total time=  36.2s\n",
            "[CV] END ..learning_rate=0.4, max_depth=20, n_estimators=500; total time=  36.6s\n",
            "[CV] END ..learning_rate=0.4, max_depth=20, n_estimators=500; total time=  33.9s\n",
            "[CV] END .learning_rate=0.4, max_depth=20, n_estimators=1000; total time= 1.0min\n",
            "[CV] END .learning_rate=0.4, max_depth=20, n_estimators=1000; total time=  55.8s\n",
            "[CV] END .learning_rate=0.4, max_depth=20, n_estimators=1000; total time=  56.5s\n",
            "[CV] END .learning_rate=0.4, max_depth=20, n_estimators=1000; total time=  55.3s\n",
            "[CV] END .learning_rate=0.4, max_depth=20, n_estimators=1000; total time=  56.3s\n",
            "[CV] END ...learning_rate=0.5, max_depth=5, n_estimators=100; total time=   2.8s\n",
            "[CV] END ...learning_rate=0.5, max_depth=5, n_estimators=100; total time=   2.8s\n",
            "[CV] END ...learning_rate=0.5, max_depth=5, n_estimators=100; total time=   2.9s\n",
            "[CV] END ...learning_rate=0.5, max_depth=5, n_estimators=100; total time=   4.8s\n",
            "[CV] END ...learning_rate=0.5, max_depth=5, n_estimators=100; total time=   2.8s\n",
            "[CV] END ...learning_rate=0.5, max_depth=5, n_estimators=500; total time=  14.2s\n",
            "[CV] END ...learning_rate=0.5, max_depth=5, n_estimators=500; total time=  14.2s\n",
            "[CV] END ...learning_rate=0.5, max_depth=5, n_estimators=500; total time=  15.4s\n",
            "[CV] END ...learning_rate=0.5, max_depth=5, n_estimators=500; total time=  15.0s\n",
            "[CV] END ...learning_rate=0.5, max_depth=5, n_estimators=500; total time=  14.2s\n",
            "[CV] END ..learning_rate=0.5, max_depth=5, n_estimators=1000; total time=  26.7s\n",
            "[CV] END ..learning_rate=0.5, max_depth=5, n_estimators=1000; total time=  26.7s\n",
            "[CV] END ..learning_rate=0.5, max_depth=5, n_estimators=1000; total time=  26.9s\n",
            "[CV] END ..learning_rate=0.5, max_depth=5, n_estimators=1000; total time=  27.3s\n",
            "[CV] END ..learning_rate=0.5, max_depth=5, n_estimators=1000; total time=  29.1s\n",
            "[CV] END ..learning_rate=0.5, max_depth=10, n_estimators=100; total time=   4.7s\n",
            "[CV] END ..learning_rate=0.5, max_depth=10, n_estimators=100; total time=   6.7s\n",
            "[CV] END ..learning_rate=0.5, max_depth=10, n_estimators=100; total time=   4.7s\n",
            "[CV] END ..learning_rate=0.5, max_depth=10, n_estimators=100; total time=   4.7s\n",
            "[CV] END ..learning_rate=0.5, max_depth=10, n_estimators=100; total time=   6.9s\n",
            "[CV] END ..learning_rate=0.5, max_depth=10, n_estimators=500; total time=  23.1s\n",
            "[CV] END ..learning_rate=0.5, max_depth=10, n_estimators=500; total time=  23.1s\n",
            "[CV] END ..learning_rate=0.5, max_depth=10, n_estimators=500; total time=  20.9s\n",
            "[CV] END ..learning_rate=0.5, max_depth=10, n_estimators=500; total time=  22.9s\n",
            "[CV] END ..learning_rate=0.5, max_depth=10, n_estimators=500; total time=  22.9s\n",
            "[CV] END .learning_rate=0.5, max_depth=10, n_estimators=1000; total time=  40.7s\n",
            "[CV] END .learning_rate=0.5, max_depth=10, n_estimators=1000; total time=  40.3s\n",
            "[CV] END .learning_rate=0.5, max_depth=10, n_estimators=1000; total time=  43.1s\n",
            "[CV] END .learning_rate=0.5, max_depth=10, n_estimators=1000; total time=  40.7s\n",
            "[CV] END .learning_rate=0.5, max_depth=10, n_estimators=1000; total time=  41.1s\n",
            "[CV] END ..learning_rate=0.5, max_depth=15, n_estimators=100; total time=   8.4s\n",
            "[CV] END ..learning_rate=0.5, max_depth=15, n_estimators=100; total time=   8.2s\n",
            "[CV] END ..learning_rate=0.5, max_depth=15, n_estimators=100; total time=   6.2s\n",
            "[CV] END ..learning_rate=0.5, max_depth=15, n_estimators=100; total time=   8.3s\n",
            "[CV] END ..learning_rate=0.5, max_depth=15, n_estimators=100; total time=   6.1s\n",
            "[CV] END ..learning_rate=0.5, max_depth=15, n_estimators=500; total time=  30.1s\n",
            "[CV] END ..learning_rate=0.5, max_depth=15, n_estimators=500; total time=  28.0s\n",
            "[CV] END ..learning_rate=0.5, max_depth=15, n_estimators=500; total time=  27.9s\n",
            "[CV] END ..learning_rate=0.5, max_depth=15, n_estimators=500; total time=  27.8s\n",
            "[CV] END ..learning_rate=0.5, max_depth=15, n_estimators=500; total time=  29.8s\n",
            "[CV] END .learning_rate=0.5, max_depth=15, n_estimators=1000; total time=  50.5s\n",
            "[CV] END .learning_rate=0.5, max_depth=15, n_estimators=1000; total time=  50.1s\n",
            "[CV] END .learning_rate=0.5, max_depth=15, n_estimators=1000; total time=  49.6s\n",
            "[CV] END .learning_rate=0.5, max_depth=15, n_estimators=1000; total time=  49.1s\n",
            "[CV] END .learning_rate=0.5, max_depth=15, n_estimators=1000; total time=  49.3s\n",
            "[CV] END ..learning_rate=0.5, max_depth=20, n_estimators=100; total time=   7.4s\n",
            "[CV] END ..learning_rate=0.5, max_depth=20, n_estimators=100; total time=   9.5s\n",
            "[CV] END ..learning_rate=0.5, max_depth=20, n_estimators=100; total time=   9.4s\n",
            "[CV] END ..learning_rate=0.5, max_depth=20, n_estimators=100; total time=   7.4s\n",
            "[CV] END ..learning_rate=0.5, max_depth=20, n_estimators=100; total time=   9.5s\n",
            "[CV] END ..learning_rate=0.5, max_depth=20, n_estimators=500; total time=  32.3s\n",
            "[CV] END ..learning_rate=0.5, max_depth=20, n_estimators=500; total time=  30.6s\n",
            "[CV] END ..learning_rate=0.5, max_depth=20, n_estimators=500; total time=  32.3s\n",
            "[CV] END ..learning_rate=0.5, max_depth=20, n_estimators=500; total time=  30.5s\n",
            "[CV] END ..learning_rate=0.5, max_depth=20, n_estimators=500; total time=  32.9s\n",
            "[CV] END .learning_rate=0.5, max_depth=20, n_estimators=1000; total time=  51.5s\n",
            "[CV] END .learning_rate=0.5, max_depth=20, n_estimators=1000; total time=  51.9s\n",
            "[CV] END .learning_rate=0.5, max_depth=20, n_estimators=1000; total time=  51.1s\n",
            "[CV] END .learning_rate=0.5, max_depth=20, n_estimators=1000; total time=  51.6s\n",
            "[CV] END .learning_rate=0.5, max_depth=20, n_estimators=1000; total time=  53.9s\n",
            "\n",
            " {'learning_rate': 0.2, 'max_depth': 5, 'n_estimators': 500}\n"
          ]
        }
      ]
    },
    {
      "cell_type": "code",
      "source": [
        "# setting up xgboost classifier model\n",
        "xgbclf = XGBClassifier(max_depth=5, learning_rate=0.2, n_estimators=500, objective='binary:logistic', booster='gbtree')\n",
        "\n",
        "# training the xgboost model\n",
        "xgbclf = xgbclf.fit(train_x, train_y)\n",
        "\n",
        "# generating predictions from the trained model\n",
        "predsxgb = xgbclf.predict(test_x)\n",
        "\n",
        "# evaluate the performance of the model\n",
        "print(\"XGBoost Model Accuracy Score:\", round(accuracy_score(predsxgb, test_y)*100, 2))\n",
        "print('\\n', classification_report(predsxgb, test_y))\n",
        "\n",
        "# 1 = True News, 0 = Fake News"
      ],
      "metadata": {
        "colab": {
          "base_uri": "https://localhost:8080/"
        },
        "id": "8yDVTB9bGeJ0",
        "outputId": "13fa06f7-b653-476d-bb35-914532510235"
      },
      "execution_count": 15,
      "outputs": [
        {
          "output_type": "stream",
          "name": "stdout",
          "text": [
            "XGBoost Model Accuracy Score: 94.74\n",
            "\n",
            "               precision    recall  f1-score   support\n",
            "\n",
            "           0       0.94      0.94      0.94      2220\n",
            "           1       0.95      0.95      0.95      2700\n",
            "\n",
            "    accuracy                           0.95      4920\n",
            "   macro avg       0.95      0.95      0.95      4920\n",
            "weighted avg       0.95      0.95      0.95      4920\n",
            "\n"
          ]
        }
      ]
    },
    {
      "cell_type": "code",
      "source": [
        "xgb_cm = confusion_matrix(predsxgb, test_y)\n",
        "sns.heatmap(xgb_cm, annot=True, fmt='.0f',xticklabels = [\"Fake News\", \"True News\"] , yticklabels = [\"Fake News\", \"True News\"], cmap='Greens')\n",
        "plt.ylabel('True Class')\n",
        "plt.xlabel('Predicted Class')\n",
        "plt.title('XGBoost Classifier')"
      ],
      "metadata": {
        "colab": {
          "base_uri": "https://localhost:8080/",
          "height": 490
        },
        "id": "3Gc_lNGUILTB",
        "outputId": "61a834ae-d350-4aeb-9072-a3e0f12995b3"
      },
      "execution_count": 16,
      "outputs": [
        {
          "output_type": "execute_result",
          "data": {
            "text/plain": [
              "Text(0.5, 1.0, 'XGBoost Classifier')"
            ]
          },
          "metadata": {},
          "execution_count": 16
        },
        {
          "output_type": "display_data",
          "data": {
            "text/plain": [
              "<Figure size 640x480 with 2 Axes>"
            ],
            "image/png": "[encoded data removed]"
          },
          "metadata": {}
        }
      ]
    },
    {
      "cell_type": "markdown",
      "source": [
        "## **Save XGBoost Model for Deployment**"
      ],
      "metadata": {
        "id": "Y6FMIcwZvXtN"
      }
    },
    {
      "cell_type": "code",
      "source": [
        "# save the XGBoost model as a pickle file\n",
        "model_pkl_file = \"xgboost_tweet_pred.pkl\"\n",
        "\n",
        "with open(model_pkl_file, 'wb') as file:\n",
        "    pickle.dump(xgbclf, file)"
      ],
      "metadata": {
        "id": "strkZ2XlToOW"
      },
      "execution_count": 17,
      "outputs": []
    }
  ],
  "metadata": {
    "kernelspec": {
      "display_name": "Python 3",
      "name": "python3"
    },
    "language_info": {
      "codemirror_mode": {
        "name": "ipython",
        "version": 3
      },
      "file_extension": ".py",
      "mimetype": "text/x-python",
      "name": "python",
      "nbconvert_exporter": "python",
      "pygments_lexer": "ipython3",
      "version": "3.9.7"
    },
    "orig_nbformat": 4,
    "vscode": {
      "interpreter": {
        "hash": "e0a4d7a3f932f2f54c02275881c2013077c5e9842c021b62bd8b5b05593233a2"
      }
    },
    "colab": {
      "provenance": []
    }
  },
  "nbformat": 4,
  "nbformat_minor": 0
}